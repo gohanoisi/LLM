{
 "cells": [
  {
   "cell_type": "markdown",
   "id": "aad5efc2",
   "metadata": {},
   "source": [
    "## モデルの確認"
   ]
  },
  {
   "cell_type": "code",
   "execution_count": 2,
   "id": "1c7b06db",
   "metadata": {},
   "outputs": [
    {
     "name": "stdout",
     "output_type": "stream",
     "text": [
      "llama2:13b\n",
      "qwen2.5-coder:32b\n"
     ]
    }
   ],
   "source": [
    "import ollama\n",
    "\n",
    "# Ollamaサーバーから利用可能なモデルのリストを取得します\n",
    "# response_objectにはモデル情報を含むオブジェクトが返されます\n",
    "response_object = ollama.list()\n",
    "\n",
    "# 'models'属性があり、かつモデルリストが空でないかを確認します\n",
    "if hasattr(response_object, 'models') and response_object.models:\n",
    "    # 利用可能なモデル名のみを出力します\n",
    "    for model_data in response_object.models:\n",
    "        # model_dataオブジェクトからモデル名（.model属性）を取得して表示します\n",
    "        print(model_data.model)\n",
    "else:\n",
    "    # モデルが見つからなかった場合のメッセージ\n",
    "    print(\"利用可能なモデルが見つかりませんでした。Ollamaサーバーが起動しており、モデルがインストールされているか確認してください。\")"
   ]
  },
  {
   "cell_type": "markdown",
   "id": "d77aae7d",
   "metadata": {},
   "source": [
    "## 出力サンプル"
   ]
  },
  {
   "cell_type": "code",
   "execution_count": null,
   "id": "c5ad03b5",
   "metadata": {},
   "outputs": [],
   "source": [
    "import ollama\n",
    "\n",
    "# --- 設定項目 ---\n",
    "# 使用するモデル名を指定します (1セル目で確認したモデル名を入力してください)\n",
    "MODEL_TO_USE = 'deepseek-r1:8b'  # 例: 'gemma3:1b', 'llama3'など\n",
    "\n",
    "# LLMへの指示（プロンプト）\n",
    "USER_PROMPT = \"あなたのできることを教えて下さい\"\n",
    "\n",
    "# (オプション) システムプロンプトでAIの基本的な振る舞いを指示できます\n",
    "# ここでは非常にシンプルな指示にしています\n",
    "SYSTEM_PROMPT = \"あなたはAIアシスタントです。簡潔に答えてください。\"\n",
    "# --- 設定ここまで ---\n",
    "\n",
    "# LLMにチャット形式で指示を送信します\n",
    "response = ollama.chat(\n",
    "    model=MODEL_TO_USE,\n",
    "    messages=[\n",
    "        {\n",
    "            'role': 'system',\n",
    "            'content': SYSTEM_PROMPT\n",
    "        },\n",
    "        {\n",
    "            'role': 'user',\n",
    "            'content': USER_PROMPT\n",
    "        }\n",
    "    ]\n",
    ")\n",
    "\n",
    "# LLMからの応答メッセージの内容のみを出力します\n",
    "print(response['message']['content'])"
   ]
  },
  {
   "cell_type": "markdown",
   "id": "bd9a5ea2",
   "metadata": {},
   "source": [
    "## 応答速度比較"
   ]
  },
  {
   "cell_type": "code",
   "execution_count": 3,
   "id": "bd18c6c0",
   "metadata": {},
   "outputs": [
    {
     "name": "stdout",
     "output_type": "stream",
     "text": [
      "=== 応答速度 & 回答内容 比較 ===\n",
      "\n",
      "--- モデル: llama2:13b ---\n",
      "[llama2:13b Run 1] 19.306 秒\n",
      "[llama2:13b Run 2] 16.740 秒\n",
      "[llama2:13b Run 3] 14.925 秒\n",
      "→ llama2:13b の平均応答時間: 16.991 秒\n",
      "\n",
      "--- モデル: qwen2.5-coder:32b ---\n",
      "[qwen2.5-coder:32b Run 1] 14.355 秒\n",
      "[qwen2.5-coder:32b Run 2] 7.048 秒\n",
      "[qwen2.5-coder:32b Run 3] 6.401 秒\n",
      "→ qwen2.5-coder:32b の平均応答時間: 9.268 秒\n",
      "\n",
      "=== まとめ ===\n",
      "\n",
      "モデル: llama2:13b\n",
      "平均時間: 16.991 秒\n",
      "【回答例】\n",
      "  Run 1: \n",
      "Hello! As an AI assistant, I can assist with a wide range of tasks. Here are some examples of what …\n",
      "  Run 2: \n",
      "Hello! As an AI assistant, I can assist with a variety of tasks. Here are some examples of what I c…\n",
      "  Run 3: \n",
      " Hello! As an AI assistant, I can help with a wide range of tasks. Here are some examples of what I…\n",
      "\n",
      "モデル: qwen2.5-coder:32b\n",
      "平均時間: 9.268 秒\n",
      "【回答例】\n",
      "  Run 1: 情報検索、要約作成、翻訳、スケジュール管理などを行えます。\n",
      "  Run 2: 情報検索、要約作成、翻訳、予定管理などを行います。\n",
      "  Run 3: 情報を検索、質問に回答、スケジュール管理などを行います。\n"
     ]
    }
   ],
   "source": [
    "# deepseek-r1:8b, llama3.1:8b, qwen2.5-coder:7b のそれぞれの応答速度を確かめる\n",
    "import time\n",
    "import ollama\n",
    "\n",
    "# --- 設定 ---\n",
    "MODELS = [\n",
    "    \"llama2:13b\",\n",
    "    \"qwen2.5-coder:32b\"\n",
    "]\n",
    "SYSTEM_PROMPT = \"あなたはAIアシスタントです。簡潔に答えてください。\"\n",
    "USER_PROMPT = \"あなたのできることを教えて下さい\"\n",
    "RUNS_PER_MODEL = 3  # 1モデルあたり何回計測するか\n",
    "# --- 設定ここまで ---\n",
    "\n",
    "def measure_model(model_name):\n",
    "    times = []\n",
    "    answers = []\n",
    "    for i in range(RUNS_PER_MODEL):\n",
    "        start = time.time()\n",
    "        response = ollama.chat(\n",
    "            model=model_name,\n",
    "            messages=[\n",
    "                {'role': 'system', 'content': SYSTEM_PROMPT},\n",
    "                {'role': 'user',   'content': USER_PROMPT},\n",
    "            ]\n",
    "        )\n",
    "        elapsed = time.time() - start\n",
    "        times.append(elapsed)\n",
    "        answers.append(response['message']['content'])\n",
    "        print(f\"[{model_name} Run {i+1}] {elapsed:.3f} 秒\")\n",
    "    avg_time = sum(times) / len(times)\n",
    "    print(f\"→ {model_name} の平均応答時間: {avg_time:.3f} 秒\\n\")\n",
    "    return {\n",
    "        'model': model_name,\n",
    "        'times': times,\n",
    "        'avg_time': avg_time,\n",
    "        'answers': answers,\n",
    "    }\n",
    "\n",
    "def main():\n",
    "    results = []\n",
    "    print(\"=== 応答速度 & 回答内容 比較 ===\\n\")\n",
    "    for m in MODELS:\n",
    "        print(f\"--- モデル: {m} ---\")\n",
    "        try:\n",
    "            res = measure_model(m)\n",
    "            results.append(res)\n",
    "        except Exception as e:\n",
    "            print(f\"Error for {m}: {e}\\n\")\n",
    "    # 結果をまとめて表示\n",
    "    print(\"=== まとめ ===\")\n",
    "    for r in results:\n",
    "        print(f\"\\nモデル: {r['model']}\")\n",
    "        print(f\"平均時間: {r['avg_time']:.3f} 秒\")\n",
    "        print(\"【回答例】\")\n",
    "        for idx, ans in enumerate(r['answers'], 1):\n",
    "            print(f\"  Run {idx}: {ans[:100]}{'…' if len(ans)>100 else ''}\")\n",
    "    # 必要に応じてここで自動評価指標を計算してください\n",
    "\n",
    "if __name__ == '__main__':\n",
    "    main()\n",
    "\n"
   ]
  },
  {
   "cell_type": "markdown",
   "id": "e5ead7d4",
   "metadata": {},
   "source": [
    "### 応答速度比較結果\n",
    "\n",
    "| モデル                | Run 1 (秒) | Run 2 (秒) | Run 3 (秒) | 平均応答時間 (秒) |\n",
    "|:---------------------|-----------:|-----------:|-----------:|-----------------:|\n",
    "| deepseek-r1:8b       |     58.117 |    140.283 |    126.096 |           108.165 |\n",
    "| llama3.1:8b          |     24.420 |     15.763 |     17.661 |            19.281 |\n",
    "| qwen2.5-coder:7b     |     37.433 |     26.084 |     21.571 |            28.363 |\n"
   ]
  },
  {
   "cell_type": "markdown",
   "id": "dc446b50",
   "metadata": {},
   "source": [
    "### desktop 環境\n",
    "\n",
    "モデル: llama2:13b\n",
    "\n",
    "| Run 1 (秒) | Run 2 (秒) | Run 3 (秒) | 平均応答時間 (秒) |\n",
    "|:-----------|-----------|-----------|-----------------|\n",
    "| 19.306 | 16.740 | 14.925 | 16.991 |\n",
    "\n",
    "モデル: qwen2.5-coder:32b\n",
    "\n",
    "| Run 1 (秒) | Run 2 (秒) | Run 3 (秒) | 平均応答時間 (秒) |\n",
    "|:-----------|-----------|-----------|-----------------|\n",
    "| 14.355 | 7.048 | 6.401 | 9.268 |"
   ]
  }
 ],
 "metadata": {
  "kernelspec": {
   "display_name": "Python 3",
   "language": "python",
   "name": "python3"
  },
  "language_info": {
   "codemirror_mode": {
    "name": "ipython",
    "version": 3
   },
   "file_extension": ".py",
   "mimetype": "text/x-python",
   "name": "python",
   "nbconvert_exporter": "python",
   "pygments_lexer": "ipython3",
   "version": "3.12.0"
  }
 },
 "nbformat": 4,
 "nbformat_minor": 5
}
