{
 "cells": [
  {
   "cell_type": "code",
   "execution_count": 1,
   "id": "1c7b06db",
   "metadata": {},
   "outputs": [
    {
     "name": "stdout",
     "output_type": "stream",
     "text": [
      "deepseek-r1:8b\n",
      "llama3.1:8b\n",
      "qwen2.5-coder:7b\n"
     ]
    }
   ],
   "source": [
    "import ollama\n",
    "\n",
    "# Ollamaサーバーから利用可能なモデルのリストを取得します\n",
    "# response_objectにはモデル情報を含むオブジェクトが返されます\n",
    "response_object = ollama.list()\n",
    "\n",
    "# 'models'属性があり、かつモデルリストが空でないかを確認します\n",
    "if hasattr(response_object, 'models') and response_object.models:\n",
    "    # 利用可能なモデル名のみを出力します\n",
    "    for model_data in response_object.models:\n",
    "        # model_dataオブジェクトからモデル名（.model属性）を取得して表示します\n",
    "        print(model_data.model)\n",
    "else:\n",
    "    # モデルが見つからなかった場合のメッセージ\n",
    "    print(\"利用可能なモデルが見つかりませんでした。Ollamaサーバーが起動しており、モデルがインストールされているか確認してください。\")"
   ]
  },
  {
   "cell_type": "code",
   "execution_count": null,
   "id": "c5ad03b5",
   "metadata": {},
   "outputs": [],
   "source": [
    "import ollama\n",
    "\n",
    "# --- 設定項目 ---\n",
    "# 使用するモデル名を指定します (1セル目で確認したモデル名を入力してください)\n",
    "MODEL_TO_USE = 'deepseek-r1:8b'  # 例: 'gemma3:1b', 'llama3'など\n",
    "\n",
    "# LLMへの指示（プロンプト）\n",
    "USER_PROMPT = \"あなたのできることを教えて下さい\"\n",
    "\n",
    "# (オプション) システムプロンプトでAIの基本的な振る舞いを指示できます\n",
    "# ここでは非常にシンプルな指示にしています\n",
    "SYSTEM_PROMPT = \"あなたはAIアシスタントです。簡潔に答えてください。\"\n",
    "# --- 設定ここまで ---\n",
    "\n",
    "# LLMにチャット形式で指示を送信します\n",
    "response = ollama.chat(\n",
    "    model=MODEL_TO_USE,\n",
    "    messages=[\n",
    "        {\n",
    "            'role': 'system',\n",
    "            'content': SYSTEM_PROMPT\n",
    "        },\n",
    "        {\n",
    "            'role': 'user',\n",
    "            'content': USER_PROMPT\n",
    "        }\n",
    "    ]\n",
    ")\n",
    "\n",
    "# LLMからの応答メッセージの内容のみを出力します\n",
    "print(response['message']['content'])"
   ]
  },
  {
   "cell_type": "code",
   "execution_count": null,
   "id": "bd18c6c0",
   "metadata": {},
   "outputs": [],
   "source": [
    "# deepseek-r1:8b, llama3.1:8b, qwen2.5-coder:7b のそれぞれの応答速度を確かめる\n",
    "\n"
   ]
  }
 ],
 "metadata": {
  "kernelspec": {
   "display_name": "base",
   "language": "python",
   "name": "python3"
  },
  "language_info": {
   "codemirror_mode": {
    "name": "ipython",
    "version": 3
   },
   "file_extension": ".py",
   "mimetype": "text/x-python",
   "name": "python",
   "nbconvert_exporter": "python",
   "pygments_lexer": "ipython3",
   "version": "3.12.3"
  }
 },
 "nbformat": 4,
 "nbformat_minor": 5
}
