{
 "cells": [
  {
   "cell_type": "code",
   "execution_count": 1,
   "id": "1c7b06db",
   "metadata": {},
   "outputs": [
    {
     "name": "stdout",
     "output_type": "stream",
     "text": [
      "deepseek-r1:8b\n",
      "llama3.1:8b\n",
      "qwen2.5-coder:7b\n"
     ]
    }
   ],
   "source": [
    "import ollama\n",
    "\n",
    "# Ollamaサーバーから利用可能なモデルのリストを取得します\n",
    "# response_objectにはモデル情報を含むオブジェクトが返されます\n",
    "response_object = ollama.list()\n",
    "\n",
    "# 'models'属性があり、かつモデルリストが空でないかを確認します\n",
    "if hasattr(response_object, 'models') and response_object.models:\n",
    "    # 利用可能なモデル名のみを出力します\n",
    "    for model_data in response_object.models:\n",
    "        # model_dataオブジェクトからモデル名（.model属性）を取得して表示します\n",
    "        print(model_data.model)\n",
    "else:\n",
    "    # モデルが見つからなかった場合のメッセージ\n",
    "    print(\"利用可能なモデルが見つかりませんでした。Ollamaサーバーが起動しており、モデルがインストールされているか確認してください。\")"
   ]
  },
  {
   "cell_type": "code",
   "execution_count": 2,
   "id": "c5ad03b5",
   "metadata": {},
   "outputs": [
    {
     "name": "stdout",
     "output_type": "stream",
     "text": [
      "<think>\n",
      "ふむ、ユーザーが「あなたのできることを教えて下さい」と尋ねてきたな。これは新しい相手とのやり取りだから、まず自己紹介が必要だろう。\n",
      "\n",
      "基本的な機能説明から始めるべきだ。質問に答えるのが主な役目だけど、「どんな質問にも対応できる」って最初にお伝えした方が親切かな。ユーザーが何を知りたいかわからないから、幅広い可能性を一度に示すのがいい。\n",
      "\n",
      "でも待てよ、本当に必要なのは機能一覧じゃなくて、具体的な使い方ガイドかもしれない。だから最後に「何かお手伝いしたい？」とオープンクエスチョンを入れた。これでユーザーが実際に助けを求めやすくなるだろうし。\n",
      "\n",
      "簡潔さを意識したけど、やっぱり情報量は大事だな。「テキスト処理」「日常対話」という分類で分かりやすく再構成しようとした。技術関連と学術関連に分けたのは、どちらか特定できるユーザーもいるからだと思う。でも「他にもできますよ」って追加で付けた方が安心感を与えられるかも。\n",
      "\n",
      "あ、そうだ！多言語対応のことも強調した方がいいな。特に日本語話者の場合、外国語の質問にも対応できるってことは重要だよな。\n",
      "</think>\n",
      "私はAIアシスタントなので、以下のようなことができます：\n",
      "\n",
      "- **質問に答え**: 各種知識や情報を提供します（例：歴史・科学・技術など）\n",
      "- **文章生成**: 自然な日本語で文章を作成したり修正したりします\n",
      "- **翻訳**: 多くの言語間の翻訳を支援します\n",
      "- **日常会話**: テキストベースの対話を展開できます\n",
      "- **学習・教育関連**: 学術的な説明や概念解説が可能です\n",
      "- **テキスト処理**: 証明文の作成、文章要約なども行えます\n",
      "\n",
      "他にもお手伝いできることがあればお知らせください！\n"
     ]
    }
   ],
   "source": [
    "import ollama\n",
    "\n",
    "# --- 設定項目 ---\n",
    "# 使用するモデル名を指定します (1セル目で確認したモデル名を入力してください)\n",
    "MODEL_TO_USE = 'deepseek-r1:8b'  # 例: 'gemma3:1b', 'llama3'など\n",
    "\n",
    "# LLMへの指示（プロンプト）\n",
    "USER_PROMPT = \"あなたのできることを教えて下さい\"\n",
    "\n",
    "# (オプション) システムプロンプトでAIの基本的な振る舞いを指示できます\n",
    "# ここでは非常にシンプルな指示にしています\n",
    "SYSTEM_PROMPT = \"あなたはAIアシスタントです。簡潔に答えてください。\"\n",
    "# --- 設定ここまで ---\n",
    "\n",
    "# LLMにチャット形式で指示を送信します\n",
    "response = ollama.chat(\n",
    "    model=MODEL_TO_USE,\n",
    "    messages=[\n",
    "        {\n",
    "            'role': 'system',\n",
    "            'content': SYSTEM_PROMPT\n",
    "        },\n",
    "        {\n",
    "            'role': 'user',\n",
    "            'content': USER_PROMPT\n",
    "        }\n",
    "    ]\n",
    ")\n",
    "\n",
    "# LLMからの応答メッセージの内容のみを出力します\n",
    "print(response['message']['content'])"
   ]
  }
 ],
 "metadata": {
  "kernelspec": {
   "display_name": "base",
   "language": "python",
   "name": "python3"
  },
  "language_info": {
   "codemirror_mode": {
    "name": "ipython",
    "version": 3
   },
   "file_extension": ".py",
   "mimetype": "text/x-python",
   "name": "python",
   "nbconvert_exporter": "python",
   "pygments_lexer": "ipython3",
   "version": "3.12.3"
  }
 },
 "nbformat": 4,
 "nbformat_minor": 5
}
